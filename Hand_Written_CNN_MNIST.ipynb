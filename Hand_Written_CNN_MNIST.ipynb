{
  "nbformat": 4,
  "nbformat_minor": 0,
  "metadata": {
    "colab": {
      "name": "Hand_Written_CNN_MNIST.ipynb",
      "provenance": [],
      "authorship_tag": "ABX9TyNzouNf5Wsdc9B8yJu/201B",
      "include_colab_link": true
    },
    "kernelspec": {
      "name": "python3",
      "display_name": "Python 3"
    }
  },
  "cells": [
    {
      "cell_type": "markdown",
      "metadata": {
        "id": "view-in-github",
        "colab_type": "text"
      },
      "source": [
        "<a href=\"https://colab.research.google.com/github/00mhk00/DEEP-LEARNING-PROJECTS/blob/master/Hand_Written_CNN_MNIST.ipynb\" target=\"_parent\"><img src=\"https://colab.research.google.com/assets/colab-badge.svg\" alt=\"Open In Colab\"/></a>"
      ]
    },
    {
      "cell_type": "code",
      "metadata": {
        "id": "xThFpzXrtCb-",
        "colab_type": "code",
        "colab": {}
      },
      "source": [
        "# mnist (benchmark) dataset\n",
        "# It is a dataset of handwritten images\n",
        "# http://yann.lecun.com/exdb/mnist/\n",
        "# The MNIST database of handwritten digits, available from this page, has a training set of 60,000 examples, \n",
        "# and a test set of 10,000 examples. It is a subset of a larger set available from NIST. The digits have been\n",
        "# size-normalized and centered in a fixed-size image.\n",
        "# It is a good database for people who want to try learning techniques and pattern recognition methods on real-world \n",
        "# data while spending minimal efforts on preprocessing and formatting.'''"
      ],
      "execution_count": null,
      "outputs": []
    },
    {
      "cell_type": "code",
      "metadata": {
        "id": "1gOuYkIwtkAX",
        "colab_type": "code",
        "colab": {
          "base_uri": "https://localhost:8080/",
          "height": 35
        },
        "outputId": "40231f88-a631-469f-cca8-193209845b42"
      },
      "source": [
        "import numpy as np \n",
        "import keras  \n",
        "from keras.datasets import mnist \n",
        "from keras.models import Model \n",
        "from keras.layers import Dense, Input\n",
        "from keras.layers import Conv2D, MaxPooling2D, Dropout, Flatten \n",
        "from keras import backend as k "
      ],
      "execution_count": null,
      "outputs": [
        {
          "output_type": "stream",
          "text": [
            "Using TensorFlow backend.\n"
          ],
          "name": "stderr"
        }
      ]
    },
    {
      "cell_type": "code",
      "metadata": {
        "id": "1rOYvXiouDiH",
        "colab_type": "code",
        "colab": {
          "base_uri": "https://localhost:8080/",
          "height": 52
        },
        "outputId": "d567b44f-18af-4130-e1d1-ba1d38adef1e"
      },
      "source": [
        "(x_train, y_train), (x_test, y_test) = mnist.load_data()"
      ],
      "execution_count": null,
      "outputs": [
        {
          "output_type": "stream",
          "text": [
            "Downloading data from https://s3.amazonaws.com/img-datasets/mnist.npz\n",
            "11493376/11490434 [==============================] - 2s 0us/step\n"
          ],
          "name": "stdout"
        }
      ]
    },
    {
      "cell_type": "code",
      "metadata": {
        "id": "2A9MQhl2uDwR",
        "colab_type": "code",
        "colab": {
          "base_uri": "https://localhost:8080/",
          "height": 303
        },
        "outputId": "ff3647f6-418b-4caa-8625-eba232157466"
      },
      "source": [
        "#Display the dataset\n",
        "from matplotlib import pyplot\n",
        "print('Train: X=%s, y=%s' % (x_train.shape, y_train.shape))\n",
        "print('Test: X=%s, y=%s' % (x_test.shape, y_test.shape))\n",
        "# plot first few images\n",
        "for i in range(9):\n",
        "# define subplot\n",
        " pyplot.subplot(330 + 1 + i)\n",
        "# plot raw pixel data\n",
        "pyplot.imshow(x_train[i], cmap=pyplot.get_cmap('gray'))\n",
        "# show the figure\\n\",\n",
        "pyplot.show()"
      ],
      "execution_count": null,
      "outputs": [
        {
          "output_type": "stream",
          "text": [
            "Train: X=(60000, 28, 28), y=(60000,)\n",
            "Test: X=(10000, 28, 28), y=(10000,)\n"
          ],
          "name": "stdout"
        },
        {
          "output_type": "display_data",
          "data": {
            "image/png": "[encoded data removed]",
            "text/plain": [
              "<Figure size 432x288 with 9 Axes>"
            ]
          },
          "metadata": {
            "tags": [],
            "needs_background": "light"
          }
        }
      ]
    },
    {
      "cell_type": "code",
      "metadata": {
        "id": "9a5k3TvouD5g",
        "colab_type": "code",
        "colab": {}
      },
      "source": [
        "img_rows, img_cols=28, 28\n",
        "if k.image_data_format() == 'channels_first': \n",
        "  #reshape dataset to have a single channel\n",
        "  x_train = x_train.reshape(x_train.shape[0], 1, img_rows, img_cols) \n",
        "  x_test = x_test.reshape(x_test.shape[0], 1, img_rows, img_cols) \n",
        "  inpx = (1, img_rows, img_cols) \n",
        "else:\n",
        "  #reshape dataset to have a single channel\n",
        "  x_train = x_train.reshape(x_train.shape[0], img_rows, img_cols, 1) \n",
        "  x_test = x_test.reshape(x_test.shape[0], img_rows, img_cols, 1) \n",
        "  inpx = (img_rows, img_cols, 1)"
      ],
      "execution_count": null,
      "outputs": []
    },
    {
      "cell_type": "code",
      "metadata": {
        "id": "Kq89qPMruD_m",
        "colab_type": "code",
        "colab": {}
      },
      "source": [
        "#convert from integers to floats\n",
        "x_train = x_train.astype('float32') \n",
        "x_test = x_test.astype('float32') \n",
        "# Nor. 0 to 1\n",
        "x_train /= 255\n",
        "x_test /= 255"
      ],
      "execution_count": null,
      "outputs": []
    },
    {
      "cell_type": "code",
      "metadata": {
        "id": "JGM54ppEuEFj",
        "colab_type": "code",
        "colab": {}
      },
      "source": [
        "# convert class vectors to binary class matrices  OR one hot encode target values\n",
        "y_train = keras.utils.to_categorical(y_train) \n",
        "y_test = keras.utils.to_categorical(y_test) "
      ],
      "execution_count": null,
      "outputs": []
    },
    {
      "cell_type": "code",
      "metadata": {
        "id": "vLb-8YyVwfMa",
        "colab_type": "code",
        "colab": {}
      },
      "source": [
        "inpx = Input(shape=inpx) \n",
        "layer1 = Conv2D(32, kernel_size=(3, 3), activation='relu')(inpx) \n",
        "layer2 = Conv2D(64, (3, 3), activation='relu')(layer1) \n",
        "layer3 = MaxPooling2D(pool_size=(3, 3))(layer2) \n",
        "# To prevent overfitting \n",
        "layer4 = Dropout(0.5)(layer3)\n",
        "layer5 = Flatten()(layer4) \n",
        "layer6 = Dense(250, activation='sigmoid')(layer5) \n",
        "layer7 = Dense(10, activation='softmax')(layer6)"
      ],
      "execution_count": null,
      "outputs": []
    },
    {
      "cell_type": "code",
      "metadata": {
        "id": "MFuqBesLwlBH",
        "colab_type": "code",
        "colab": {
          "base_uri": "https://localhost:8080/",
          "height": 451
        },
        "outputId": "f497c744-667a-4aa4-e5da-7efeb3fa8079"
      },
      "source": [
        "model = Model([inpx], layer7) \n",
        "model.compile(optimizer=keras.optimizers.Adadelta(),loss=keras.losses.categorical_crossentropy,metrics=['accuracy'])\n",
        "model.fit(x_train, y_train, epochs=12, batch_size=500) "
      ],
      "execution_count": null,
      "outputs": [
        {
          "output_type": "stream",
          "text": [
            "Epoch 1/12\n",
            "60000/60000 [==============================] - 122s 2ms/step - loss: 2.3107 - accuracy: 0.1041\n",
            "Epoch 2/12\n",
            "60000/60000 [==============================] - 121s 2ms/step - loss: 2.3064 - accuracy: 0.1048\n",
            "Epoch 3/12\n",
            "60000/60000 [==============================] - 121s 2ms/step - loss: 2.3066 - accuracy: 0.1063\n",
            "Epoch 4/12\n",
            "60000/60000 [==============================] - 120s 2ms/step - loss: 2.3070 - accuracy: 0.1052\n",
            "Epoch 5/12\n",
            "60000/60000 [==============================] - 125s 2ms/step - loss: 2.3068 - accuracy: 0.1045\n",
            "Epoch 6/12\n",
            "60000/60000 [==============================] - 122s 2ms/step - loss: 2.3070 - accuracy: 0.1047\n",
            "Epoch 7/12\n",
            "60000/60000 [==============================] - 121s 2ms/step - loss: 2.3066 - accuracy: 0.1075\n",
            "Epoch 8/12\n",
            "60000/60000 [==============================] - 121s 2ms/step - loss: 2.3061 - accuracy: 0.1067\n",
            "Epoch 9/12\n",
            "60000/60000 [==============================] - 120s 2ms/step - loss: 2.3049 - accuracy: 0.1058\n",
            "Epoch 10/12\n",
            "60000/60000 [==============================] - 124s 2ms/step - loss: 2.2969 - accuracy: 0.1200\n",
            "Epoch 11/12\n",
            "60000/60000 [==============================] - 120s 2ms/step - loss: 2.1927 - accuracy: 0.2372\n",
            "Epoch 12/12\n",
            "60000/60000 [==============================] - 122s 2ms/step - loss: 1.1576 - accuracy: 0.6724\n"
          ],
          "name": "stdout"
        },
        {
          "output_type": "execute_result",
          "data": {
            "text/plain": [
              "<keras.callbacks.callbacks.History at 0x7f1b92e12668>"
            ]
          },
          "metadata": {
            "tags": []
          },
          "execution_count": 15
        }
      ]
    },
    {
      "cell_type": "code",
      "metadata": {
        "id": "9ZN8hrc7wlYv",
        "colab_type": "code",
        "colab": {}
      },
      "source": [
        "score = model.evaluate(x_test, y_test, verbose=0) \n",
        "print('loss=', score[0]) \n",
        "print('accuracy=', score[1])"
      ],
      "execution_count": null,
      "outputs": []
    },
    {
      "cell_type": "code",
      "metadata": {
        "id": "YyVZf3tiwllm",
        "colab_type": "code",
        "colab": {}
      },
      "source": [
        "#sinle Value predication in number\n",
        "predictions = model.predict(x_test)\n",
        "print(np.argmax(np.round(predictions[2])))"
      ],
      "execution_count": null,
      "outputs": []
    },
    {
      "cell_type": "code",
      "metadata": {
        "id": "b1QgJKL8zvg0",
        "colab_type": "code",
        "colab": {
          "base_uri": "https://localhost:8080/",
          "height": 217
        },
        "outputId": "6c30e29f-49b9-408a-e8f9-9fe44cd1551d"
      },
      "source": [
        "#sinle Value predication in graph (plot)\n",
        "import matplotlib.pyplot as plt\n",
        "plt.imshow(x_test[2].reshape(28, 28), cmap = plt.cm.binary)\n",
        "plt.show()"
      ],
      "execution_count": 1,
      "outputs": [
        {
          "output_type": "error",
          "ename": "NameError",
          "evalue": "ignored",
          "traceback": [
            "\u001b[0;31m---------------------------------------------------------------------------\u001b[0m",
            "\u001b[0;31mNameError\u001b[0m                                 Traceback (most recent call last)",
            "\u001b[0;32m<ipython-input-1-1bef631237f4>\u001b[0m in \u001b[0;36m<module>\u001b[0;34m()\u001b[0m\n\u001b[1;32m      1\u001b[0m \u001b[0;31m#sinle Value predication in graph (plot)\u001b[0m\u001b[0;34m\u001b[0m\u001b[0;34m\u001b[0m\u001b[0;34m\u001b[0m\u001b[0m\n\u001b[1;32m      2\u001b[0m \u001b[0;32mimport\u001b[0m \u001b[0mmatplotlib\u001b[0m\u001b[0;34m.\u001b[0m\u001b[0mpyplot\u001b[0m \u001b[0;32mas\u001b[0m \u001b[0mplt\u001b[0m\u001b[0;34m\u001b[0m\u001b[0;34m\u001b[0m\u001b[0m\n\u001b[0;32m----> 3\u001b[0;31m \u001b[0mplt\u001b[0m\u001b[0;34m.\u001b[0m\u001b[0mimshow\u001b[0m\u001b[0;34m(\u001b[0m\u001b[0mx_test\u001b[0m\u001b[0;34m[\u001b[0m\u001b[0;36m2\u001b[0m\u001b[0;34m]\u001b[0m\u001b[0;34m.\u001b[0m\u001b[0mreshape\u001b[0m\u001b[0;34m(\u001b[0m\u001b[0;36m28\u001b[0m\u001b[0;34m,\u001b[0m \u001b[0;36m28\u001b[0m\u001b[0;34m)\u001b[0m\u001b[0;34m,\u001b[0m \u001b[0mcmap\u001b[0m \u001b[0;34m=\u001b[0m \u001b[0mplt\u001b[0m\u001b[0;34m.\u001b[0m\u001b[0mcm\u001b[0m\u001b[0;34m.\u001b[0m\u001b[0mbinary\u001b[0m\u001b[0;34m)\u001b[0m\u001b[0;34m\u001b[0m\u001b[0;34m\u001b[0m\u001b[0m\n\u001b[0m\u001b[1;32m      4\u001b[0m \u001b[0mplt\u001b[0m\u001b[0;34m.\u001b[0m\u001b[0mshow\u001b[0m\u001b[0;34m(\u001b[0m\u001b[0;34m)\u001b[0m\u001b[0;34m\u001b[0m\u001b[0;34m\u001b[0m\u001b[0m\n",
            "\u001b[0;31mNameError\u001b[0m: name 'x_test' is not defined"
          ]
        }
      ]
    }
  ]
}